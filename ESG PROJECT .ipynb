{
 "cells": [
  {
   "cell_type": "markdown",
   "id": "a27e03fa-3029-4a72-84d4-e5cccf094fe5",
   "metadata": {},
   "source": [
    "# ESG Ratings Analysis Project\n",
    "\n",
    "## Problem Definition\n",
    "The objective of this project is to analyze ESG (Environmental, Social, and Governance) ratings for public companies. The goals include:\n",
    "- Understanding the factors that contribute to ESG scores.\n",
    "- Enhancing feature engineering to improve model performance.\n",
    "- Evaluating model performance through learning curves.\n",
    "- Preparing a deployment plan for the predictive model."
   ]
  },
  {
   "cell_type": "code",
   "execution_count": 1,
   "id": "2be18ee8-51a6-4849-82e3-c89f217c4520",
   "metadata": {},
   "outputs": [],
   "source": [
    "## 1. Import Libraries\n",
    "\n",
    "import numpy as np\n",
    "import pandas as pd\n",
    "import seaborn as sns\n",
    "import matplotlib.pyplot as plt\n",
    "from sklearn.model_selection import train_test_split, learning_curve\n",
    "from sklearn.ensemble import RandomForestRegressor\n",
    "from sklearn.metrics import mean_absolute_error\n",
    "import warnings\n",
    "\n",
    "warnings.filterwarnings('ignore')"
   ]
  },
  {
   "cell_type": "code",
   "execution_count": 2,
   "id": "d91b76f5-4490-4bd3-b002-176e8ae8b0f8",
   "metadata": {},
   "outputs": [],
   "source": [
    "# Load the dataset\n",
    "df = pd.read_csv('PublicCompanyESGRatingsDataset.csv')"
   ]
  },
  {
   "cell_type": "markdown",
   "id": "adcda109-1b5f-434c-937e-746bf1fae486",
   "metadata": {},
   "source": [
    "# Data Exploratoin "
   ]
  },
  {
   "cell_type": "code",
   "execution_count": 3,
   "id": "3e7cdc9f-ce6e-4267-be41-89b1ab9c74ae",
   "metadata": {},
   "outputs": [
    {
     "name": "stdout",
     "output_type": "stream",
     "text": [
      "<class 'pandas.core.frame.DataFrame'>\n",
      "RangeIndex: 722 entries, 0 to 721\n",
      "Data columns (total 21 columns):\n",
      " #   Column                Non-Null Count  Dtype \n",
      "---  ------                --------------  ----- \n",
      " 0   ticker                722 non-null    object\n",
      " 1   name                  722 non-null    object\n",
      " 2   currency              722 non-null    object\n",
      " 3   exchange              722 non-null    object\n",
      " 4   industry              709 non-null    object\n",
      " 5   logo                  702 non-null    object\n",
      " 6   weburl                706 non-null    object\n",
      " 7   environment_grade     722 non-null    object\n",
      " 8   environment_level     722 non-null    object\n",
      " 9   social_grade          722 non-null    object\n",
      " 10  social_level          722 non-null    object\n",
      " 11  governance_grade      722 non-null    object\n",
      " 12  governance_level      722 non-null    object\n",
      " 13  environment_score     722 non-null    int64 \n",
      " 14  social_score          722 non-null    int64 \n",
      " 15  governance_score      722 non-null    int64 \n",
      " 16  total_score           722 non-null    int64 \n",
      " 17  last_processing_date  722 non-null    object\n",
      " 18  total_grade           722 non-null    object\n",
      " 19  total_level           722 non-null    object\n",
      " 20  cik                   722 non-null    int64 \n",
      "dtypes: int64(5), object(16)\n",
      "memory usage: 118.6+ KB\n",
      "None\n",
      "       environment_score  social_score  governance_score  total_score  \\\n",
      "count         722.000000    722.000000        722.000000   722.000000   \n",
      "mean          404.806094    292.182825        278.761773   975.750693   \n",
      "std           145.103870     57.017406         47.031536   218.751796   \n",
      "min           200.000000    160.000000         75.000000   600.000000   \n",
      "25%           240.000000    243.000000        235.000000   763.000000   \n",
      "50%           483.000000    302.000000        300.000000  1046.000000   \n",
      "75%           518.750000    322.750000        310.000000  1144.000000   \n",
      "max           719.000000    667.000000        475.000000  1536.000000   \n",
      "\n",
      "                cik  \n",
      "count  7.220000e+02  \n",
      "mean   9.897925e+05  \n",
      "std    5.816815e+05  \n",
      "min    1.800000e+03  \n",
      "25%    7.231572e+05  \n",
      "50%    1.046189e+06  \n",
      "75%    1.470094e+06  \n",
      "max    1.914023e+06  \n",
      "ticker                   0\n",
      "name                     0\n",
      "currency                 0\n",
      "exchange                 0\n",
      "industry                13\n",
      "logo                    20\n",
      "weburl                  16\n",
      "environment_grade        0\n",
      "environment_level        0\n",
      "social_grade             0\n",
      "social_level             0\n",
      "governance_grade         0\n",
      "governance_level         0\n",
      "environment_score        0\n",
      "social_score             0\n",
      "governance_score         0\n",
      "total_score              0\n",
      "last_processing_date     0\n",
      "total_grade              0\n",
      "total_level              0\n",
      "cik                      0\n",
      "dtype: int64\n"
     ]
    }
   ],
   "source": [
    "# Display basic information about the dataset\n",
    "print(df.info())\n",
    "# Display summary statistics\n",
    "print(df.describe())\n",
    "# Check for missing values\n",
    "print(df.isnull().sum())"
   ]
  },
  {
   "cell_type": "markdown",
   "id": "0542bd6c-2588-4848-95b3-3cb4de2d56c0",
   "metadata": {},
   "source": [
    "# Data Cleaning "
   ]
  },
  {
   "cell_type": "code",
   "execution_count": 4,
   "id": "f80d1837-d41f-4b4a-98c7-9ec7e65dc78e",
   "metadata": {},
   "outputs": [],
   "source": [
    "# Fill missing values where applicable or drop them if necessary\n",
    "df.fillna(method='ffill', inplace=True)\n",
    "df.drop_duplicates(inplace=True)"
   ]
  },
  {
   "cell_type": "markdown",
   "id": "b0f82619-74c0-4bcb-858f-d7fbe957801e",
   "metadata": {},
   "source": [
    "# Enhanced Feature Engineering"
   ]
  },
  {
   "cell_type": "code",
   "execution_count": 5,
   "id": "8a6c10dc-9278-4ad0-a36a-b3364f089a22",
   "metadata": {},
   "outputs": [],
   "source": [
    "# Convert categorical variables into numerical ones using one-hot encoding\n",
    "df = pd.get_dummies(df, columns=['industry'], drop_first=True)\n",
    "\n",
    "# Example of creating interaction features (if applicable)\n",
    "df['env_social_interaction'] = df['environment_score'] * df['social_score']"
   ]
  },
  {
   "cell_type": "code",
   "execution_count": 6,
   "id": "301d16c8-0977-4d1d-9b81-d65b8a29727b",
   "metadata": {},
   "outputs": [
    {
     "name": "stdout",
     "output_type": "stream",
     "text": [
      "Non-numeric columns found: Index(['currency', 'exchange', 'environment_grade', 'environment_level',\n",
      "       'social_grade', 'social_level', 'governance_grade', 'governance_level',\n",
      "       'total_level'],\n",
      "      dtype='object')\n"
     ]
    }
   ],
   "source": [
    "### 5.2.2 Define Features and Target Variable\n",
    "# Drop unnecessary columns\n",
    "columns_to_drop = ['total_score', 'total_grade', 'ticker', 'name', 'logo', 'weburl', 'last_processing_date']\n",
    "X = df.drop(columns=columns_to_drop, axis=1, errors='ignore')\n",
    "y = df['total_score']\n",
    "\n",
    "# Ensure all columns in X are numeric\n",
    "# Identify non-numeric columns\n",
    "non_numeric_columns = X.select_dtypes(include=['object']).columns\n",
    "\n",
    "# Handle non-numeric columns (convert to numeric if possible or drop them)\n",
    "if len(non_numeric_columns) > 0:\n",
    "    print(\"Non-numeric columns found:\", non_numeric_columns)\n",
    "    # Drop non-numeric columns\n",
    "    X = X.drop(columns=non_numeric_columns, axis=1)\n",
    "\n",
    "# Check if there are still any NaN values and handle them\n",
    "X = X.fillna(0)  # Fill NaN values with 0 (or you can choose another strategy)\n",
    "\n",
    "### 5.2.3 Split the Data into Training and Testing Sets\n",
    "from sklearn.model_selection import train_test_split\n",
    "\n",
    "X_train, X_test, y_train, y_test = train_test_split(X, y, test_size=0.2, random_state=42)"
   ]
  },
  {
   "cell_type": "markdown",
   "id": "a5482bfe-486d-4a76-b19d-b0b86e82efae",
   "metadata": {},
   "source": [
    "# Random Forest Model \n",
    "\n",
    "A Random Forest Regressor is an ensemble machine learning algorithm used for regression tasks, which predicts continuous values. It works by building multiple decision trees during training and outputs the average prediction of all individual trees. This approach helps improve accuracy and control overfitting, as each tree in the forest is trained on a random subset of the data. The final prediction is more robust and less sensitive to outliers compared to a single decision tree. It’s widely used for its simplicity, scalability, and high performance in many different types of datasets."
   ]
  },
  {
   "cell_type": "code",
   "execution_count": 7,
   "id": "1b96781f-2f6a-4cf6-b347-d5512d0ed893",
   "metadata": {},
   "outputs": [
    {
     "data": {
      "image/png": "[encoded data removed]",
      "text/plain": [
       "<Figure size 1000x300 with 1 Axes>"
      ]
     },
     "metadata": {},
     "output_type": "display_data"
    }
   ],
   "source": [
    "### 5.2.4 Fit a Random Forest Model to Calculate Feature Importance\n",
    "from sklearn.ensemble import RandomForestRegressor\n",
    "\n",
    "model = RandomForestRegressor(random_state=42)\n",
    "model.fit(X_train, y_train)\n",
    "\n",
    "### 5.2.5 Get Feature Importances and Visualize Them\n",
    "importances = model.feature_importances_\n",
    "feature_importance_df = pd.DataFrame({'Feature': X.columns, 'Importance': importances})\n",
    "feature_importance_df.sort_values(by='Importance', ascending=False, inplace=True)\n",
    "\n",
    "import matplotlib.pyplot as plt\n",
    "import seaborn as sns\n",
    "\n",
    "plt.figure(figsize=(10, 3))\n",
    "sns.barplot(x='Importance', y='Feature', data=feature_importance_df.head(3))\n",
    "plt.title('Top 10 Feature Importances')\n",
    "plt.xlabel('Importance')\n",
    "plt.ylabel('Feature')\n",
    "plt.show() "
   ]
  },
  {
   "cell_type": "code",
   "execution_count": 8,
   "id": "3346f713-af5b-455f-ad22-54783c4c199a",
   "metadata": {},
   "outputs": [
    {
     "name": "stdout",
     "output_type": "stream",
     "text": [
      "Cross-validation scores: [0.98919357 0.99519472 0.99463781 0.9889253  0.99703763]\n",
      "Mean CV score: 0.9929978076860891\n"
     ]
    }
   ],
   "source": [
    "from sklearn.model_selection import cross_val_score\n",
    "\n",
    "# Perform cross-validation\n",
    "cv_scores = cross_val_score(model, X_train, y_train, cv=5)\n",
    "print(f'Cross-validation scores: {cv_scores}')\n",
    "print(f'Mean CV score: {cv_scores.mean()}')\n"
   ]
  },
  {
   "cell_type": "markdown",
   "id": "0fc88a04-5b2e-4ae4-a2e3-d3a7595195f5",
   "metadata": {},
   "source": [
    "# Learning Curve Analysis"
   ]
  },
  {
   "cell_type": "code",
   "execution_count": 9,
   "id": "7af77b6b-9c25-4bf6-8bd3-70b43ab75849",
   "metadata": {},
   "outputs": [
    {
     "data": {
      "image/png": "[encoded data removed]",
      "text/plain": [
       "<Figure size 1000x300 with 1 Axes>"
      ]
     },
     "metadata": {},
     "output_type": "display_data"
    }
   ],
   "source": [
    "train_sizes, train_scores, test_scores = learning_curve(model, X_train, y_train, cv=5)\n",
    "\n",
    "train_scores_mean = train_scores.mean(axis=1)\n",
    "test_scores_mean = test_scores.mean(axis=1)\n",
    "\n",
    "plt.figure(figsize=(10, 3))\n",
    "plt.plot(train_sizes, train_scores_mean, label='Training score')\n",
    "plt.plot(train_sizes, test_scores_mean, label='Cross-validation score')\n",
    "plt.title('Learning Curves')\n",
    "plt.xlabel('Training Size')\n",
    "plt.ylabel('Score')\n",
    "plt.legend()\n",
    "plt.show()"
   ]
  },
  {
   "cell_type": "code",
   "execution_count": 10,
   "id": "992a5c18-281d-4735-8065-59605b922e4c",
   "metadata": {
    "scrolled": true
   },
   "outputs": [
    {
     "name": "stdout",
     "output_type": "stream",
     "text": [
      "R²: 0.99\n",
      "RMSE: 22.47\n"
     ]
    }
   ],
   "source": [
    "from sklearn.metrics import mean_squared_error, r2_score\n",
    "\n",
    "# Prédictions\n",
    "y_pred = model.predict(X_test)\n",
    "\n",
    "# Évaluation\n",
    "print(f\"R²: {r2_score(y_test, y_pred):.2f}\")\n",
    "print(f\"RMSE: {mean_squared_error(y_test, y_pred, squared=False):.2f}\")\n"
   ]
  },
  {
   "cell_type": "markdown",
   "id": "5cb072d6-cc4e-4282-b06b-157cca6877e0",
   "metadata": {},
   "source": [
    "## The model shows a strong performance with a very high R² value, indicating a good fit to the data, and the RMSE value is low enough to suggest that the model’s predictions are quite accurate, though the exact quality of the predictions depends on the scale of the target variable.\n",
    "## But unfortunately it's overfitting "
   ]
  },
  {
   "cell_type": "code",
   "execution_count": 11,
   "id": "02fe5c97-27f4-4b57-8c69-90542a6d4c5c",
   "metadata": {},
   "outputs": [
    {
     "name": "stdout",
     "output_type": "stream",
     "text": [
      "Mean Absolute Error: 8.775793103448278\n"
     ]
    }
   ],
   "source": [
    "y_pred = model.predict(X_test)\n",
    "mae = mean_absolute_error(y_test, y_pred)\n",
    "print(f'Mean Absolute Error: {mae}')"
   ]
  },
  {
   "cell_type": "code",
   "execution_count": 12,
   "id": "b0e5a9fb-d0a9-429b-b345-378e211e4a56",
   "metadata": {},
   "outputs": [
    {
     "data": {
      "image/png": "[encoded data removed]",
      "text/plain": [
       "<Figure size 640x480 with 1 Axes>"
      ]
     },
     "metadata": {},
     "output_type": "display_data"
    }
   ],
   "source": [
    "import matplotlib.pyplot as plt\n",
    "plt.hist(y, bins=20)\n",
    "plt.title(\"Distribution of Target Variable (y)\")\n",
    "plt.show()"
   ]
  },
  {
   "cell_type": "code",
   "execution_count": 13,
   "id": "44f01829-291e-4096-829a-955097ba5286",
   "metadata": {},
   "outputs": [
    {
     "name": "stdout",
     "output_type": "stream",
     "text": [
      "Feature_0     NaN\n",
      "Feature_1     NaN\n",
      "Feature_2     NaN\n",
      "Feature_3     NaN\n",
      "Feature_4     NaN\n",
      "Feature_5     NaN\n",
      "Feature_6     NaN\n",
      "Feature_7     NaN\n",
      "Feature_8     NaN\n",
      "Feature_9     NaN\n",
      "Feature_10    NaN\n",
      "Feature_11    NaN\n",
      "Feature_12    NaN\n",
      "Feature_13    NaN\n",
      "Feature_14    NaN\n",
      "Feature_15    NaN\n",
      "Feature_16    NaN\n",
      "Feature_17    NaN\n",
      "Feature_18    NaN\n",
      "Feature_19    NaN\n",
      "Feature_20    NaN\n",
      "Feature_21    NaN\n",
      "Feature_22    NaN\n",
      "Feature_23    NaN\n",
      "Feature_24    NaN\n",
      "Feature_25    NaN\n",
      "Feature_26    NaN\n",
      "Feature_27    NaN\n",
      "Feature_28    NaN\n",
      "Feature_29    NaN\n",
      "Feature_30    NaN\n",
      "Feature_31    NaN\n",
      "Feature_32    NaN\n",
      "Feature_33    NaN\n",
      "Feature_34    NaN\n",
      "Feature_35    NaN\n",
      "Feature_36    NaN\n",
      "Feature_37    NaN\n",
      "Feature_38    NaN\n",
      "Feature_39    NaN\n",
      "Feature_40    NaN\n",
      "Feature_41    NaN\n",
      "Feature_42    NaN\n",
      "Feature_43    NaN\n",
      "Feature_44    NaN\n",
      "Feature_45    NaN\n",
      "Feature_46    NaN\n",
      "Feature_47    NaN\n",
      "Feature_48    NaN\n",
      "Feature_49    NaN\n",
      "Feature_50    NaN\n",
      "Target        1.0\n",
      "Name: Target, dtype: float64\n"
     ]
    }
   ],
   "source": [
    "import pandas as pd\n",
    "df = pd.DataFrame(X, columns=[f\"Feature_{i}\" for i in range(X.shape[1])])\n",
    "df['Target'] = y\n",
    "print(df.corr()['Target'])"
   ]
  },
  {
   "cell_type": "code",
   "execution_count": 14,
   "id": "30590962-4ad3-45b7-86a5-a8ae2c11704a",
   "metadata": {},
   "outputs": [
    {
     "name": "stdout",
     "output_type": "stream",
     "text": [
      "Fitting 3 folds for each of 216 candidates, totalling 648 fits\n",
      "Best Parameters: {'max_depth': 30, 'max_features': 'sqrt', 'min_samples_leaf': 1, 'min_samples_split': 2, 'n_estimators': 200}\n",
      "Optimized Random Forest - RMSE: 19.012723369263554, R²: 0.9918471019464854\n"
     ]
    }
   ],
   "source": [
    "from sklearn.ensemble import RandomForestRegressor\n",
    "from sklearn.model_selection import GridSearchCV\n",
    "\n",
    "# Define the model\n",
    "rf = RandomForestRegressor(random_state=42)\n",
    "\n",
    "# Define the parameter grid\n",
    "param_grid = {\n",
    "    'n_estimators': [50, 100, 200],  # Number of trees\n",
    "    'max_depth': [None, 10, 20, 30],  # Maximum depth of trees\n",
    "    'min_samples_split': [2, 5, 10],  # Minimum samples required to split a node\n",
    "    'min_samples_leaf': [1, 2, 4],    # Minimum samples at a leaf node\n",
    "    'max_features': ['sqrt', 'log2']  # Number of features considered for splits\n",
    "}\n",
    "\n",
    "# Grid Search\n",
    "grid_search = GridSearchCV(estimator=rf, param_grid=param_grid, cv=3, scoring='neg_mean_squared_error', verbose=1, n_jobs=-1)\n",
    "grid_search.fit(X_train, y_train)\n",
    "\n",
    "# Best parameters\n",
    "print(\"Best Parameters:\", grid_search.best_params_)\n",
    "\n",
    "# Train the model with best parameters\n",
    "best_rf = grid_search.best_estimator_\n",
    "y_pred = best_rf.predict(X_test)\n",
    "\n",
    "# Evaluate\n",
    "from sklearn.metrics import mean_squared_error, r2_score\n",
    "rmse = np.sqrt(mean_squared_error(y_test, y_pred))\n",
    "r2 = r2_score(y_test, y_pred)\n",
    "print(f\"Optimized Random Forest - RMSE: {rmse}, R²: {r2}\")\n"
   ]
  },
  {
   "cell_type": "code",
   "execution_count": 15,
   "id": "3f5a3b27-19a2-41b4-a326-44f4a3190bc7",
   "metadata": {},
   "outputs": [
    {
     "data": {
      "image/png": "[encoded data removed]",
      "text/plain": [
       "<Figure size 640x480 with 1 Axes>"
      ]
     },
     "metadata": {},
     "output_type": "display_data"
    }
   ],
   "source": [
    "import matplotlib.pyplot as plt\n",
    "feature_importances = best_rf.feature_importances_\n",
    "sorted_idx = np.argsort(feature_importances)[::-1]\n",
    "plt.bar(range(len(feature_importances)), feature_importances[sorted_idx])\n",
    "plt.title(\"Feature Importance\")\n",
    "plt.show()"
   ]
  },
  {
   "cell_type": "code",
   "execution_count": 16,
   "id": "9cd305e6-2225-499a-ad2b-bfa3308db0ce",
   "metadata": {
    "scrolled": true
   },
   "outputs": [
    {
     "name": "stdout",
     "output_type": "stream",
     "text": [
      "Cross-validated R² scores: [0.98192496 0.98059806 0.98733033 0.98965353 0.99016199]\n",
      "Mean R²: 0.9859337717570147\n"
     ]
    }
   ],
   "source": [
    "from sklearn.model_selection import cross_val_score\n",
    "scores = cross_val_score(best_rf, X, y, cv=5, scoring='r2')\n",
    "print(\"Cross-validated R² scores:\", scores)\n",
    "print(\"Mean R²:\", scores.mean())"
   ]
  },
  {
   "cell_type": "markdown",
   "id": "47174bc2-14fe-47a4-983c-fcaee46acb89",
   "metadata": {},
   "source": [
    "## Trying other models for better results "
   ]
  },
  {
   "cell_type": "code",
   "execution_count": 21,
   "id": "4eac69a3-8265-4645-9fd1-d7ecc15963d7",
   "metadata": {},
   "outputs": [
    {
     "name": "stdout",
     "output_type": "stream",
     "text": [
      "KNN - RMSE: 52.31285989453098, R²: 0.9382779589061203\n"
     ]
    }
   ],
   "source": [
    "from sklearn.neighbors import KNeighborsRegressor\n",
    "\n",
    "# Create and train the KNN model\n",
    "knn = KNeighborsRegressor(n_neighbors=5)\n",
    "knn.fit(X_train, y_train)\n",
    "\n",
    "# Predict and evaluate\n",
    "y_pred_knn = knn.predict(X_test)\n",
    "rmse_knn = np.sqrt(mean_squared_error(y_test, y_pred_knn))\n",
    "r2_knn = r2_score(y_test, y_pred_knn)\n",
    "\n",
    "print(f\"KNN - RMSE: {rmse_knn}, R²: {r2_knn}\")\n"
   ]
  },
  {
   "cell_type": "code",
   "execution_count": 38,
   "id": "e3eda1fa-a35e-490e-8133-12ba3ee225f1",
   "metadata": {},
   "outputs": [
    {
     "name": "stdout",
     "output_type": "stream",
     "text": [
      "Best alpha for Lasso:  {'alpha': 0.01}\n",
      "Best alpha for Ridge:  {'alpha': 0.001}\n",
      "Lasso Regression - RMSE: 0.0104076722447565, R²: 0.99999999755696\n",
      "Ridge Regression - RMSE: 0.001800650047616955, R²: 0.9999999999268723\n",
      "Lasso Cross-validated RMSE: 0.011219967161305081\n",
      "Ridge Cross-validated RMSE: 0.0021418943472346925\n"
     ]
    }
   ],
   "source": [
    "from sklearn.linear_model import Lasso, Ridge\n",
    "from sklearn.metrics import mean_squared_error, r2_score\n",
    "from sklearn.model_selection import GridSearchCV\n",
    "import numpy as np\n",
    "\n",
    "# Step 1: Define the model parameter grid for alpha values\n",
    "alpha_values = [0.001, 0.01, 0.1, 1, 10, 100]\n",
    "\n",
    "# Step 2: Initialize Lasso and Ridge regression models\n",
    "lasso = Lasso()\n",
    "ridge = Ridge()\n",
    "\n",
    "# Step 3: Define the hyperparameter grid for both models\n",
    "param_grid = {'alpha': alpha_values}\n",
    "\n",
    "# Step 4: Perform GridSearchCV for Lasso and Ridge regression\n",
    "lasso_grid = GridSearchCV(lasso, param_grid, cv=10, scoring='neg_mean_squared_error', n_jobs=-1)\n",
    "ridge_grid = GridSearchCV(ridge, param_grid, cv=10, scoring='neg_mean_squared_error', n_jobs=-1)\n",
    "\n",
    "# Step 5: Fit GridSearchCV to the training data for both models\n",
    "lasso_grid.fit(X_train, y_train)\n",
    "ridge_grid.fit(X_train, y_train)\n",
    "\n",
    "# Step 6: Print the best hyperparameter (alpha) for both models\n",
    "print(\"Best alpha for Lasso: \", lasso_grid.best_params_)\n",
    "print(\"Best alpha for Ridge: \", ridge_grid.best_params_)\n",
    "\n",
    "# Step 7: Get the best models\n",
    "best_lasso = lasso_grid.best_estimator_\n",
    "best_ridge = ridge_grid.best_estimator_\n",
    "\n",
    "# Step 8: Predict on the test data\n",
    "y_pred_lasso = best_lasso.predict(X_test)\n",
    "y_pred_ridge = best_ridge.predict(X_test)\n",
    "\n",
    "# Step 9: Evaluate RMSE and R² for Lasso\n",
    "rmse_lasso = np.sqrt(mean_squared_error(y_test, y_pred_lasso))\n",
    "r2_lasso = r2_score(y_test, y_pred_lasso)\n",
    "print(f\"Lasso Regression - RMSE: {rmse_lasso}, R²: {r2_lasso}\")\n",
    "\n",
    "# Step 10: Evaluate RMSE and R² for Ridge\n",
    "rmse_ridge = np.sqrt(mean_squared_error(y_test, y_pred_ridge))\n",
    "r2_ridge = r2_score(y_test, y_pred_ridge)\n",
    "print(f\"Ridge Regression - RMSE: {rmse_ridge}, R²: {r2_ridge}\")\n",
    "\n",
    "# Step 11: Perform cross-validation to evaluate model stability\n",
    "cv_lasso = np.sqrt(-lasso_grid.best_score_)\n",
    "cv_ridge = np.sqrt(-ridge_grid.best_score_)\n",
    "print(f\"Lasso Cross-validated RMSE: {cv_lasso}\")\n",
    "print(f\"Ridge Cross-validated RMSE: {cv_ridge}\")\n"
   ]
  },
  {
   "cell_type": "markdown",
   "id": "791aa1ee-40cc-439e-a112-78be42dcb31a",
   "metadata": {},
   "source": [
    "## Fine tuning for better results "
   ]
  },
  {
   "cell_type": "code",
   "execution_count": 39,
   "id": "b9856f5f-d759-42ce-a593-cda500b3a7d6",
   "metadata": {},
   "outputs": [
    {
     "name": "stdout",
     "output_type": "stream",
     "text": [
      "Best alpha for Lasso: {'alpha': 1}\n",
      "Best alpha for Ridge: {'alpha': 1}\n"
     ]
    }
   ],
   "source": [
    "alpha_values = [1, 10, 100]\n",
    "lasso_grid = GridSearchCV(Lasso(), {'alpha': alpha_values}, cv=10, scoring='neg_mean_squared_error', n_jobs=-1)\n",
    "ridge_grid = GridSearchCV(Ridge(), {'alpha': alpha_values}, cv=10, scoring='neg_mean_squared_error', n_jobs=-1)\n",
    "\n",
    "lasso_grid.fit(X_train, y_train)\n",
    "ridge_grid.fit(X_train, y_train)\n",
    "\n",
    "print(\"Best alpha for Lasso:\", lasso_grid.best_params_)\n",
    "print(\"Best alpha for Ridge:\", ridge_grid.best_params_)\n"
   ]
  },
  {
   "cell_type": "code",
   "execution_count": 40,
   "id": "703e964d-ea44-4792-b148-e52467e4ed12",
   "metadata": {},
   "outputs": [
    {
     "name": "stdout",
     "output_type": "stream",
     "text": [
      "Lasso RMSE: 44.186220411605206, R²: 0.955965095149974\n"
     ]
    }
   ],
   "source": [
    "from sklearn.decomposition import PCA\n",
    "from sklearn.preprocessing import StandardScaler\n",
    "\n",
    "# Standardize the features\n",
    "scaler = StandardScaler()\n",
    "X_train_scaled = scaler.fit_transform(X_train)\n",
    "X_test_scaled = scaler.transform(X_test)\n",
    "\n",
    "# Apply PCA to reduce dimensionality\n",
    "pca = PCA(n_components=5)  # Try different values for n_components\n",
    "X_train_pca = pca.fit_transform(X_train_scaled)\n",
    "X_test_pca = pca.transform(X_test_scaled)\n",
    "\n",
    "# Re-fit Lasso or Ridge on PCA-transformed data\n",
    "lasso = Lasso(alpha=0.01)\n",
    "lasso.fit(X_train_pca, y_train)\n",
    "\n",
    "y_pred_lasso = lasso.predict(X_test_pca)\n",
    "print(f\"Lasso RMSE: {np.sqrt(mean_squared_error(y_test, y_pred_lasso))}, R²: {r2_score(y_test, y_pred_lasso)}\")\n"
   ]
  },
  {
   "cell_type": "markdown",
   "id": "c83ab515-e7ed-4060-add1-11b952f0f0c1",
   "metadata": {},
   "source": [
    "## Learning Curves for Lasso Model "
   ]
  },
  {
   "cell_type": "code",
   "execution_count": 46,
   "id": "4a78b84d-efaf-4730-9da5-8ffa0b1809e3",
   "metadata": {},
   "outputs": [
    {
     "data": {
      "image/png": "[encoded data removed]",
      "text/plain": [
       "<Figure size 1000x600 with 1 Axes>"
      ]
     },
     "metadata": {},
     "output_type": "display_data"
    }
   ],
   "source": [
    "import numpy as np\n",
    "import matplotlib.pyplot as plt\n",
    "from sklearn.linear_model import Lasso\n",
    "from sklearn.model_selection import learning_curve\n",
    "from sklearn.model_selection import train_test_split\n",
    "from sklearn.datasets import make_regression\n",
    "\n",
    "# Example dataset (replace this with your dataset)\n",
    "# You should replace X, y with your actual data\n",
    "X, y = make_regression(n_samples=100, n_features=5, noise=0.1, random_state=42)\n",
    "\n",
    "# Split into training and test sets\n",
    "X_train, X_test, y_train, y_test = train_test_split(X, y, test_size=0.2, random_state=42)\n",
    "\n",
    "# Initialize the Lasso model (you can adjust alpha as needed)\n",
    "lasso_model = Lasso(alpha=0.1)\n",
    "\n",
    "# Use learning_curve function to get training and validation scores\n",
    "train_sizes, train_scores, val_scores = learning_curve(\n",
    "    lasso_model, X_train, y_train, cv=5, scoring='neg_mean_squared_error', train_sizes=np.linspace(0.1, 1.0, 10)\n",
    ")\n",
    "\n",
    "# Calculate mean and standard deviation for the training and validation scores\n",
    "train_rmse = np.sqrt(-train_scores.mean(axis=1))  # Convert negative MSE to RMSE\n",
    "val_rmse = np.sqrt(-val_scores.mean(axis=1))  # Convert negative MSE to RMSE\n",
    "\n",
    "# Plot the learning curves\n",
    "plt.figure(figsize=(10, 6))\n",
    "plt.plot(train_sizes, train_rmse, label=\"Training RMSE\", color=\"blue\", marker=\"o\")\n",
    "plt.plot(train_sizes, val_rmse, label=\"Validation RMSE\", color=\"red\", marker=\"o\")\n",
    "plt.fill_between(train_sizes, train_rmse - train_scores.std(axis=1), train_rmse + train_scores.std(axis=1), alpha=0.2, color=\"blue\")\n",
    "plt.fill_between(train_sizes, val_rmse - val_scores.std(axis=1), val_rmse + val_scores.std(axis=1), alpha=0.2, color=\"red\")\n",
    "\n",
    "# Labels and title\n",
    "plt.title(\"Learning Curves for Lasso Regression\")\n",
    "plt.xlabel(\"Training Set Size\")\n",
    "plt.ylabel(\"RMSE\")\n",
    "plt.legend(loc=\"best\")\n",
    "plt.grid(True)\n",
    "\n",
    "# Show the plot\n",
    "plt.show()"
   ]
  },
  {
   "cell_type": "markdown",
   "id": "2708a279-52dc-4ce3-bc50-44e0cdbda855",
   "metadata": {},
   "source": [
    "# Conclusion\n",
    "\n",
    "After careful analysis of the learning curves and model performance, Lasso regression emerges as a strong candidate for this task. While both Ridge and Lasso demonstrated effective performance, Lasso's ability to perform feature selection and its potential for improved interpretability make it a compelling choice. However, it's evident that further fine-tuning of hyperparameters and potential feature engineering are necessary to optimize Lasso's performance and achieve even better results."
   ]
  }
 ],
 "metadata": {
  "kernelspec": {
   "display_name": "Python 3 (ipykernel)",
   "language": "python",
   "name": "python3"
  },
  "language_info": {
   "codemirror_mode": {
    "name": "ipython",
    "version": 3
   },
   "file_extension": ".py",
   "mimetype": "text/x-python",
   "name": "python",
   "nbconvert_exporter": "python",
   "pygments_lexer": "ipython3",
   "version": "3.12.4"
  }
 },
 "nbformat": 4,
 "nbformat_minor": 5
}
